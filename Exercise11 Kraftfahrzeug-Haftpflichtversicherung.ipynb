{
 "metadata": {
  "name": "",
  "signature": "sha256:bff5049d2a421687b8a9bf0919ec2ce47398f2adb267989aac1d29e9d90ab7f2"
 },
 "nbformat": 3,
 "nbformat_minor": 0,
 "worksheets": [
  {
   "cells": [
    {
     "cell_type": "markdown",
     "metadata": {},
     "source": [
      "Team: Kraftfahrzeug-Haftpflichtversicherung   /   \n",
      "Author: Bettina B. Felten, Sophie C. Stuhler   /   \n",
      "Date: 23-01-2017"
     ]
    },
    {
     "cell_type": "heading",
     "level": 1,
     "metadata": {},
     "source": [
      "Create two points in a kml file, save them and create an html.file with your points"
     ]
    },
    {
     "cell_type": "markdown",
     "metadata": {},
     "source": [
      "First check for the KML driver"
     ]
    },
    {
     "cell_type": "code",
     "collapsed": false,
     "input": [
      "## remember to set your working directory before executing!\n",
      "from osgeo import ogr\n",
      "## check, if driver is existent\n",
      "driverName = \"KML\"\n",
      "drv = ogr.GetDriverByName(driverName)\n",
      "if drv is None:\n",
      "    print \"%s driver not available.\\n\" % driverName\n",
      "else:\n",
      "    print  \"%s driver IS available.\\n\" % driverName\n"
     ],
     "language": "python",
     "metadata": {},
     "outputs": [
      {
       "output_type": "stream",
       "stream": "stdout",
       "text": [
        "KML driver IS available.\n",
        "\n"
       ]
      }
     ],
     "prompt_number": 2
    },
    {
     "cell_type": "markdown",
     "metadata": {},
     "source": [
      "Create kml file and layer in this file."
     ]
    },
    {
     "cell_type": "code",
     "collapsed": false,
     "input": [
      "## make sure this layer does not exist in 'data' folder\n",
      "fn = \"points.kml\"\n",
      "layername = \"anewlayer\"\n",
      "\n",
      "\n",
      "## Create kml file\n",
      "ds = drv.CreateDataSource(fn)\n",
      "\n",
      "from osgeo import osr\n",
      "## Set spatial reference\n",
      "spatialReference = osr.SpatialReference()\n",
      "\n",
      "## you can also do the following\n",
      "spatialReference.ImportFromProj4('+proj=longlat +ellps=WGS84 +datum=WGS84 +no_defs')\n",
      "\n",
      "## Create Layer\n",
      "layer = ds.CreateLayer(layername, spatialReference, ogr.wkbPoint)\n"
     ],
     "language": "python",
     "metadata": {},
     "outputs": [],
     "prompt_number": 3
    },
    {
     "cell_type": "markdown",
     "metadata": {},
     "source": [
      "Two points, coordinates given with z value. Put them in a list."
     ]
    },
    {
     "cell_type": "code",
     "collapsed": false,
     "input": [
      "# Ste coordinates for points of interest\n",
      "gaia_coords = [0, 5.666319, 51.987327]   # coordinates of GAIA entrance\n",
      "busstop_coords = [0, 5.667111, 51.969378]  # coordinates of bus station in Wageningen\n",
      "\n",
      "points_coords = [gaia_coords, busstop_coords]  # list of both coordinates"
     ],
     "language": "python",
     "metadata": {},
     "outputs": [],
     "prompt_number": 4
    },
    {
     "cell_type": "markdown",
     "metadata": {},
     "source": [
      "Set each point to the kml file. Since the procedure is equal, we looped over the points."
     ]
    },
    {
     "cell_type": "code",
     "collapsed": false,
     "input": [
      "points = ogr.Geometry(ogr.wkbPoint)   # Create points\n",
      "\n",
      "for point_coord in points_coords:\n",
      "    points.SetPoint(point_coord[0], point_coord[1], point_coord[2])   # SetPoint(self, int point, double x, double y, double z = 0)\n",
      "    layerDefinition = layer.GetLayerDefn()    \n",
      "    feature = ogr.Feature(layerDefinition)\n",
      "    feature.SetGeometry(points)\n",
      "    layer.CreateFeature(feature)\n",
      "\n",
      " "
     ],
     "language": "python",
     "metadata": {},
     "outputs": [],
     "prompt_number": 5
    },
    {
     "cell_type": "markdown",
     "metadata": {},
     "source": [
      "Don't forget to save."
     ]
    },
    {
     "cell_type": "code",
     "collapsed": false,
     "input": [
      "## Save by \"closing\"    \n",
      "ds.Destroy()"
     ],
     "language": "python",
     "metadata": {},
     "outputs": [],
     "prompt_number": 6
    },
    {
     "cell_type": "markdown",
     "metadata": {},
     "source": [
      "Create a nice html document to open as a map."
     ]
    },
    {
     "cell_type": "code",
     "collapsed": false,
     "input": [
      "import folium\n",
      "centermap_y = (gaia_coords[1] + busstop_coords[1])/2   # center coordinate latitude\n",
      "centermap_x = (gaia_coords[2] + busstop_coords[2])/2   # center coordinate longitude\n",
      "map_osm = folium.Map(location=[centermap_x, centermap_y])  # center to middle of GAIA and busstop\n",
      "folium.Marker([gaia_coords[2], gaia_coords[1]], popup='GAIA').add_to(map_osm)  # add GAIA to the map\n",
      "folium.Marker([busstop_coords[2], busstop_coords[1]], popup='Busstop Wageningen').add_to(map_osm)  # add the busstop to the map\n",
      "map_osm.save('gaia_busstop.html')\n"
     ],
     "language": "python",
     "metadata": {},
     "outputs": [],
     "prompt_number": 7
    },
    {
     "cell_type": "code",
     "collapsed": false,
     "input": [],
     "language": "python",
     "metadata": {},
     "outputs": []
    }
   ],
   "metadata": {}
  }
 ]
}